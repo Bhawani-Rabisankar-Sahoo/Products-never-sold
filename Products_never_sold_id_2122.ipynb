{
  "nbformat": 4,
  "nbformat_minor": 0,
  "metadata": {
    "colab": {
      "provenance": []
    },
    "kernelspec": {
      "name": "python3",
      "display_name": "Python 3"
    },
    "language_info": {
      "name": "python"
    }
  },
  "cells": [
    {
      "cell_type": "markdown",
      "source": [
        "# Product never sold   id-2122"
      ],
      "metadata": {
        "id": "xnxUwWrUhAOQ"
      }
    },
    {
      "cell_type": "markdown",
      "source": [
        "colab link - https://colab.research.google.com/drive/1y8e9LAif2D9slULjqCQJLb2EyUnXeSUm#scrollTo=2SX4X-hLhW1y"
      ],
      "metadata": {
        "id": "2SX4X-hLhW1y"
      }
    },
    {
      "cell_type": "code",
      "source": [
        "from google.colab import drive\n",
        "drive.mount('/content/drive')"
      ],
      "metadata": {
        "colab": {
          "base_uri": "https://localhost:8080/"
        },
        "id": "XXgs4QZtfr2G",
        "outputId": "a38aaa78-8faf-4f8f-d6c7-7d9e2afdbb9c"
      },
      "execution_count": 2,
      "outputs": [
        {
          "output_type": "stream",
          "name": "stdout",
          "text": [
            "Mounted at /content/drive\n"
          ]
        }
      ]
    },
    {
      "cell_type": "code",
      "execution_count": 1,
      "metadata": {
        "id": "ZAJlyfwLL-nR"
      },
      "outputs": [],
      "source": [
        "import pandas as pd\n",
        "import numpy as np"
      ]
    },
    {
      "cell_type": "code",
      "source": [
        "facebook_products = pd.read_excel('/content/drive/MyDrive/Products_never_sold_2122/facebook_products.xlsx')\n",
        "facebook_product_categories = pd.read_excel('/content/drive/MyDrive/Products_never_sold_2122/facebook_product_categories.xlsx')\n",
        "facebook_sales = pd.read_excel('/content/drive/MyDrive/Products_never_sold_2122/facebook_sales.xlsx')"
      ],
      "metadata": {
        "id": "Jy6XJTnufm4D"
      },
      "execution_count": 5,
      "outputs": []
    },
    {
      "cell_type": "code",
      "source": [
        "\n",
        "df = facebook_products\n",
        "df1 = facebook_sales\n",
        "df2 = facebook_product_categories\n",
        "\n",
        "df_new = df1.merge(df ,how = 'right' ,on = ['product_id']  )\n",
        "\n"
      ],
      "metadata": {
        "id": "vEcJ3FXTdFBs"
      },
      "execution_count": 7,
      "outputs": []
    },
    {
      "cell_type": "code",
      "source": [
        "df_new[df_new.isna().any(axis =1)].product_id\n"
      ],
      "metadata": {
        "colab": {
          "base_uri": "https://localhost:8080/"
        },
        "id": "ppZsnOIWgjLQ",
        "outputId": "93960870-a401-4b5a-f39f-54ac682e2588"
      },
      "execution_count": 8,
      "outputs": [
        {
          "output_type": "execute_result",
          "data": {
            "text/plain": [
              "22     7\n",
              "31    12\n",
              "Name: product_id, dtype: int64"
            ]
          },
          "metadata": {},
          "execution_count": 8
        }
      ]
    },
    {
      "cell_type": "code",
      "source": [
        "df_new[df_new.isna().any(axis =1)].product_category\n",
        "\n"
      ],
      "metadata": {
        "colab": {
          "base_uri": "https://localhost:8080/"
        },
        "id": "fWbsUDiNglxC",
        "outputId": "6bb4afe2-4873-429f-af65-0d66aae5241c"
      },
      "execution_count": 9,
      "outputs": [
        {
          "output_type": "execute_result",
          "data": {
            "text/plain": [
              "22    2\n",
              "31    3\n",
              "Name: product_category, dtype: int64"
            ]
          },
          "metadata": {},
          "execution_count": 9
        }
      ]
    },
    {
      "cell_type": "code",
      "source": [
        "(df_new[df_new.isna().any(axis =1)].product_category.count())/(df2['category_id'].count())"
      ],
      "metadata": {
        "colab": {
          "base_uri": "https://localhost:8080/"
        },
        "id": "4MNzEES9goMX",
        "outputId": "fab7e7e5-2561-49f3-8779-3682ab592a4d"
      },
      "execution_count": 10,
      "outputs": [
        {
          "output_type": "execute_result",
          "data": {
            "text/plain": [
              "0.5"
            ]
          },
          "metadata": {},
          "execution_count": 10
        }
      ]
    }
  ]
}